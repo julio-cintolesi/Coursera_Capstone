{
 "cells": [
  {
   "cell_type": "markdown",
   "metadata": {},
   "source": [
    "## Peer-graded Assignment: Capstone Project - The Battle of Neighborhoods (Week 1)"
   ]
  },
  {
   "cell_type": "markdown",
   "metadata": {},
   "source": [
    "## Part 1 - A description of the problem and a discussion of the background."
   ]
  },
  {
   "cell_type": "markdown",
   "metadata": {},
   "source": [
    "### A. Introduction:\n",
    "\n",
    "### A.1. Background\n",
    "\n",
    "Santiago, also known as Santiago de Chile, is the capital and largest city of Chile as well as one of the largest cities in the Americas. It is the center of Chile's most densely populated region, the Santiago Metropolitan Region, whose total population is 7 million, of which more than 6 million live in the city's continuous urban area. The city is entirely located in the country's central valley. \n",
    "\n",
    "Santiago is the cultural, political and financial center of Chile and is home to the regional headquarters of many multinational corporations. \n",
    "\n",
    "Santiago generates 45% of the country's GDP. Some international institutions, such as ECLAC (Economic Commission for Latin America and the Caribbean), have their offices in Santiago. The strong economy and low government debt is attracting migrants from Europe and the United States. in addition, it is one of the most profitable and stable economies in the region.\n",
    "\n",
    "Santiago's steady economic growth over the past few decades has transformed it into a modern metropolis. The city is now home to a growing theater and restaurant scene, extensive suburban development, dozens of shopping centers, and a rising skyline, including the tallest building in Latin America, the \"Gran Torre Santiago\". It includes several major universities, and has developed a modern transportation infrastructure, including a free flow toll-based, partly underground urban freeway system and the Metro de Santiago, South America's most extensive subway system.\n",
    "\n",
    "### A.2. Problem Description\n",
    "\n",
    "First of all I would like to comment that I have been lucky to have traveled a lot and one of my best experience was in the traditional foods of Eastern Europe especially the food of Hungary.\n",
    "\n",
    "Santiago de Chile offers many business opportunities due to its characteristics, but there are a large number of competitors and the complexity and infrastructure of the city brings greater challenges in case of opening a business.\n",
    "\n",
    "### A.3. Objective\n",
    "\n",
    "The question is to clarify and locate what is the neighborhood with the fewest competitors in downtown Santiago wich is considered the core of city to open a Hungarian restaurant by locating the neighborhood with the fewest competitors.\n",
    "\n",
    "### A.4. Target Audience\n",
    "\n",
    "The target audience is all interested in clarifying the number of competitors in case of opening a Hungarian restaurant in the  downtown Santiago."
   ]
  },
  {
   "cell_type": "markdown",
   "metadata": {},
   "source": [
    "### B. Part 2 - A description of the data and how it will be used to solve the problem. "
   ]
  },
  {
   "cell_type": "markdown",
   "metadata": {},
   "source": [
    "### B.1 description of the data\n",
    "\n",
    "The data consists of the main neighborhoods in Santiago that will be processed and disaggregated using Foursquare's location data to locate the main places and businesses, followed by performing statistical analysis and visualizations to locate the neighborhood with the fewest competitors.\n",
    "\n",
    "Firstly, to obtain the names, latitude and longitude of the main neighborhoods of the city of Santiago, it will be necessary to scrape the following wikipedia page.\n",
    "https://es.wikipedia.org/wiki/Anexo:Comunas_de_Chile\n",
    "\n",
    "Secondly, since not all the required neighborhoods are on the web page from above, it will also be necessary to get neighborhoods from the page below that allow extracting a KML file that will be transformed into an Excel file using Google Earth.\n",
    "https://www.google.com/maps/d/viewer?ie=UTF8&oe=UTF8&msa=0&mid=1ACWDQ2UW_t_jLBHcV49D4CuIWLE&ll=-33.49700571058003%2C-70.633807&z=11\n",
    "\n",
    "Lastly, to obtain exactly the requested names of the neighborhoods in downtown Santiago, it will be necessary to scrape the following wikipedia page.\n",
    "https://es.wikipedia.org/wiki/Anexo:Barrios_de_Santiago_de_Chile\n",
    "\n",
    "Once the data is obtained and processed from the first three steps, Foursquare location data will be performed to get the competitors and revise other aspects, in addition. The necessary statistical analysis will be performed to clarify the problem."
   ]
  }
 ],
 "metadata": {
  "kernelspec": {
   "display_name": "Python 3",
   "language": "python",
   "name": "python3"
  },
  "language_info": {
   "codemirror_mode": {
    "name": "ipython",
    "version": 3
   },
   "file_extension": ".py",
   "mimetype": "text/x-python",
   "name": "python",
   "nbconvert_exporter": "python",
   "pygments_lexer": "ipython3",
   "version": "3.8.2"
  }
 },
 "nbformat": 4,
 "nbformat_minor": 4
}
